{
  "nbformat": 4,
  "nbformat_minor": 0,
  "metadata": {
    "colab": {
      "name": "lab4.ipynb",
      "version": "0.3.2",
      "provenance": [],
      "collapsed_sections": [],
      "include_colab_link": true
    },
    "kernelspec": {
      "name": "python3",
      "display_name": "Python 3"
    }
  },
  "cells": [
    {
      "cell_type": "markdown",
      "metadata": {
        "id": "view-in-github",
        "colab_type": "text"
      },
      "source": [
        "<a href=\"https://colab.research.google.com/github/samarasss/ri_lab_01/blob/master/lab4.ipynb\" target=\"_parent\"><img src=\"https://colab.research.google.com/assets/colab-badge.svg\" alt=\"Open In Colab\"/></a>"
      ]
    },
    {
      "cell_type": "code",
      "metadata": {
        "id": "UQb46vMl3Iqi",
        "colab_type": "code",
        "outputId": "6e3d7afc-4e02-44f5-af9e-cd4e827ae65d",
        "colab": {
          "base_uri": "https://localhost:8080/",
          "height": 258
        }
      },
      "source": [
        "!pip install memory_profiler\n",
        "import pandas as pd\n",
        "import numpy as np\n",
        "import nltk\n",
        "import heapq\n",
        "import collections\n",
        "import time\n",
        "%load_ext memory_profiler\n",
        "\n",
        "from nltk.tokenize import RegexpTokenizer\n",
        "from nltk.corpus import stopwords\n",
        "\n",
        "nltk.download('stopwords')\n",
        "\n",
        "\n"
      ],
      "execution_count": 1,
      "outputs": [
        {
          "output_type": "stream",
          "text": [
            "Collecting memory_profiler\n",
            "\u001b[?25l  Downloading https://files.pythonhosted.org/packages/9f/fe/1fca7273dd111108f204a686b12a12b6422d405fe4614087aa7d5a66ea87/memory_profiler-0.55.0.tar.gz (40kB)\n",
            "\u001b[K     |████████████████████████████████| 40kB 2.8MB/s \n",
            "\u001b[?25hRequirement already satisfied: psutil in /usr/local/lib/python3.6/dist-packages (from memory_profiler) (5.4.8)\n",
            "Building wheels for collected packages: memory-profiler\n",
            "  Building wheel for memory-profiler (setup.py) ... \u001b[?25l\u001b[?25hdone\n",
            "  Stored in directory: /root/.cache/pip/wheels/f0/ff/63/fdbff3f1e1b76ad4eae491dd5b190902906b093e93eb86dd5a\n",
            "Successfully built memory-profiler\n",
            "Installing collected packages: memory-profiler\n",
            "Successfully installed memory-profiler-0.55.0\n",
            "[nltk_data] Downloading package stopwords to /root/nltk_data...\n",
            "[nltk_data]   Package stopwords is already up-to-date!\n"
          ],
          "name": "stdout"
        },
        {
          "output_type": "execute_result",
          "data": {
            "text/plain": [
              "True"
            ]
          },
          "metadata": {
            "tags": []
          },
          "execution_count": 1
        }
      ]
    },
    {
      "cell_type": "code",
      "metadata": {
        "id": "I3AQLRrZ382S",
        "colab_type": "code",
        "colab": {}
      },
      "source": [
        "url = 'https://raw.githubusercontent.com/samarasss/Recupera-o-da-Informa-o/master/dados/results.csv'\n",
        "df1 = pd.read_csv(url).replace(np.nan, '', regex=True)\n",
        "\n",
        "pattern = r'([A-Za-zÁáÉéÍíÓóÚúÃãÕõÇçÂâÊê]{3,27})'\n",
        "tokenize = RegexpTokenizer(pattern)\n",
        "stop_words = stopwords.words(\"portuguese\")\n",
        "\n",
        "words = []\n",
        "\n",
        "for word in df1.text:\n",
        "  tokens = [token for token in tokenize.tokenize(word.lower()) \n",
        "           if len(token)>= 3 and token not in stop_words]\n",
        "  words.extend(tokens)\n",
        "\n"
      ],
      "execution_count": 0,
      "outputs": []
    },
    {
      "cell_type": "markdown",
      "metadata": {
        "id": "-heczadosSTL",
        "colab_type": "text"
      },
      "source": [
        "**1.Execute o algoritmo ilustrado na Fig. 5.8 do livro texto (pag. 157) para gerar um índice similar o mostrado na Fig. 5.4 (pag. 134)**"
      ]
    },
    {
      "cell_type": "code",
      "metadata": {
        "id": "yGtLKHI2BWD6",
        "colab_type": "code",
        "colab": {}
      },
      "source": [
        "def buildIndex(words):\n",
        "  indexes = {}\n",
        "  n = 0\n",
        "  for document in words:\n",
        "    n = n + 1\n",
        "    tokens = set()\n",
        "    terms = [token for token in tokenize.tokenize(document)]#tokens from document\n",
        "    tokens.update(terms)\n",
        "    \n",
        "    #remova duplicatas de tokens\n",
        "    for token in tokens:\n",
        "      occurrence = document.count(token)\n",
        "      if token not in indexes:\n",
        "        indexes[token] = []\n",
        "      indexes[token].append(tuple((n,occurrence)))\n",
        "  return indexes\n",
        "\n",
        "#indexes = buildIndex(df1.text)\n",
        "\n",
        "#valores = {'token':list(indexes.keys()), 'oc_list':list(indexes.values())}\n",
        "#df = pd.DataFrame(valores)"
      ],
      "execution_count": 0,
      "outputs": []
    },
    {
      "cell_type": "code",
      "metadata": {
        "id": "eR7zmrwo_FgF",
        "colab_type": "code",
        "colab": {}
      },
      "source": [
        "indice_invertido =  buildIndex(df1.text)\n",
        "\n",
        "indice_invertido_table = pd.DataFrame()\n",
        "indice_invertido_table[\"Word\"] = indice_invertido.keys()\n",
        "indice_invertido_table[\"DocId:Occurrence\"] = indice_invertido.values()"
      ],
      "execution_count": 0,
      "outputs": []
    },
    {
      "cell_type": "markdown",
      "metadata": {
        "id": "rv2WFWyOtHYE",
        "colab_type": "text"
      },
      "source": [
        "**Guarde o índice em disco em formato csv.**\n",
        "\n"
      ]
    },
    {
      "cell_type": "code",
      "metadata": {
        "id": "o4YpT3VbGTgw",
        "colab_type": "code",
        "colab": {}
      },
      "source": [
        "indice_invertido_table.to_csv(\"indice_invertido.csv\", encoding=\"utf-8\", index=False)\n"
      ],
      "execution_count": 0,
      "outputs": []
    },
    {
      "cell_type": "markdown",
      "metadata": {
        "id": "pGBhEdAEw0GV",
        "colab_type": "text"
      },
      "source": [
        "**2.Implemente as abordagens de processamento de consulta documento-por-vez e termo-por-vez (Fig. 5.16 e 5.18).**"
      ]
    },
    {
      "cell_type": "code",
      "metadata": {
        "id": "jFVDEwpg6HBg",
        "colab_type": "code",
        "colab": {}
      },
      "source": [
        "def documentAtTimeRetrieval(query, indice_invertido, k):\n",
        "    \n",
        "    lista_invertida = []\n",
        "    rank = []\n",
        "    for word in query.split(\" \"):\n",
        "        if word in indice_invertido.keys():\n",
        "            lista_invertida.append(indice_invertido[word])\n",
        "    for document in range(1, len(words)+1):\n",
        "        sd = 0\n",
        "        for index in lista_invertida:\n",
        "            for element in index:\n",
        "                if (element[0] == document):\n",
        "                    sd += element[1]\n",
        "                    break\n",
        "        if (sd != 0):\n",
        "          heapq.heappush(rank, (sd, document))\n",
        "    return heapq.nlargest(k, rank)\n",
        "      "
      ],
      "execution_count": 0,
      "outputs": []
    },
    {
      "cell_type": "code",
      "metadata": {
        "id": "8AewZCvm19EP",
        "colab_type": "code",
        "colab": {}
      },
      "source": [
        "def termAtTimeRetrieval(query, indice_invertido, k):\n",
        "  \n",
        "    a = {}\n",
        "    lista_invertida = []\n",
        "    rank = []\n",
        "    for word in query.split(\" \"):\n",
        "        if word in indice_invertido.keys():\n",
        "            lista_invertida.append(indice_invertido[word])\n",
        "    for index in lista_invertida:\n",
        "        for post in index:\n",
        "            d = post[0]\n",
        "            freq = post[1]\n",
        "            if (d in a.keys()):\n",
        "                a[d] += freq\n",
        "            else:\n",
        "                a[d] = freq\n",
        "    for (d, ad) in a.items():\n",
        "        sd = ad\n",
        "        heapq.heappush(rank, (sd, d))\n",
        "    return heapq.nlargest(k, rank)"
      ],
      "execution_count": 0,
      "outputs": []
    },
    {
      "cell_type": "markdown",
      "metadata": {
        "id": "tkZLP0VaxMSm",
        "colab_type": "text"
      },
      "source": [
        "**1.Defina 5 consultas de um termo somente.**\n"
      ]
    },
    {
      "cell_type": "code",
      "metadata": {
        "id": "Kv4CkicXIu3s",
        "colab_type": "code",
        "colab": {}
      },
      "source": [
        " queries = [\"conforme\", \"processo\", \"revolução\", \"Guerra\", \"responsáveis\"]\n"
      ],
      "execution_count": 0,
      "outputs": []
    },
    {
      "cell_type": "markdown",
      "metadata": {
        "id": "v8O5baL56Iqk",
        "colab_type": "text"
      },
      "source": [
        "**2.Execute as 5 consultas em cada algoritmo retornando os top-10 documentos (parâmetro k do algoritmo).**\n"
      ]
    },
    {
      "cell_type": "code",
      "metadata": {
        "id": "u5c42yqWy39G",
        "colab_type": "code",
        "outputId": "0434cd6b-54b1-4c7a-accf-6c081fbd52d0",
        "colab": {
          "base_uri": "https://localhost:8080/",
          "height": 204
        }
      },
      "source": [
        "resultDocuments = []\n",
        "resultTerms = []\n",
        "timeResultDocuments = []\n",
        "timeResultTerms = []\n",
        "k = 10\n",
        "\n",
        "for query in queries:\n",
        "  init_document = time.time()\n",
        "  resultDocuments.append(documentAtTimeRetrieval(query, indice_invertido, k))\n",
        "  end_document = time.time()\n",
        "  timeResultDocuments.append(end_document - init_document)\n",
        "  \n",
        "  init_term = time.time()\n",
        "  resultTerms.append(termAtTimeRetrieval(query, indice_invertido, k))\n",
        "  end_term = time.time()\n",
        "  timeResultTerms.append(end_term - init_term)\n",
        "\n",
        "terms_table = pd.DataFrame()\n",
        "terms_table['query'] = queries\n",
        "terms_table['document_at_a_time'] = resultDocuments\n",
        "terms_table['term_at_a_time'] = resultTerms\n",
        "terms_table['compare'] = terms_table.document_at_a_time == terms_table.term_at_a_time\n",
        "terms_table"
      ],
      "execution_count": 9,
      "outputs": [
        {
          "output_type": "execute_result",
          "data": {
            "text/html": [
              "<div>\n",
              "<style scoped>\n",
              "    .dataframe tbody tr th:only-of-type {\n",
              "        vertical-align: middle;\n",
              "    }\n",
              "\n",
              "    .dataframe tbody tr th {\n",
              "        vertical-align: top;\n",
              "    }\n",
              "\n",
              "    .dataframe thead th {\n",
              "        text-align: right;\n",
              "    }\n",
              "</style>\n",
              "<table border=\"1\" class=\"dataframe\">\n",
              "  <thead>\n",
              "    <tr style=\"text-align: right;\">\n",
              "      <th></th>\n",
              "      <th>query</th>\n",
              "      <th>document_at_a_time</th>\n",
              "      <th>term_at_a_time</th>\n",
              "      <th>compare</th>\n",
              "    </tr>\n",
              "  </thead>\n",
              "  <tbody>\n",
              "    <tr>\n",
              "      <th>0</th>\n",
              "      <td>conforme</td>\n",
              "      <td>[(1, 249), (1, 235), (1, 225), (1, 193), (1, 1...</td>\n",
              "      <td>[(1, 249), (1, 235), (1, 225), (1, 193), (1, 1...</td>\n",
              "      <td>True</td>\n",
              "    </tr>\n",
              "    <tr>\n",
              "      <th>1</th>\n",
              "      <td>processo</td>\n",
              "      <td>[(8, 63), (7, 40), (5, 227), (5, 202), (5, 161...</td>\n",
              "      <td>[(8, 63), (7, 40), (5, 227), (5, 202), (5, 161...</td>\n",
              "      <td>True</td>\n",
              "    </tr>\n",
              "    <tr>\n",
              "      <th>2</th>\n",
              "      <td>revolução</td>\n",
              "      <td>[(2, 86), (2, 25), (2, 16), (1, 208), (1, 190)...</td>\n",
              "      <td>[(2, 86), (2, 25), (2, 16), (1, 208), (1, 190)...</td>\n",
              "      <td>True</td>\n",
              "    </tr>\n",
              "    <tr>\n",
              "      <th>3</th>\n",
              "      <td>Guerra</td>\n",
              "      <td>[(2, 223), (2, 111), (2, 4), (1, 248), (1, 244...</td>\n",
              "      <td>[(2, 223), (2, 111), (2, 4), (1, 248), (1, 244...</td>\n",
              "      <td>True</td>\n",
              "    </tr>\n",
              "    <tr>\n",
              "      <th>4</th>\n",
              "      <td>responsáveis</td>\n",
              "      <td>[(2, 16), (1, 222), (1, 220), (1, 207), (1, 18...</td>\n",
              "      <td>[(2, 16), (1, 222), (1, 220), (1, 207), (1, 18...</td>\n",
              "      <td>True</td>\n",
              "    </tr>\n",
              "  </tbody>\n",
              "</table>\n",
              "</div>"
            ],
            "text/plain": [
              "          query  ... compare\n",
              "0      conforme  ...    True\n",
              "1      processo  ...    True\n",
              "2     revolução  ...    True\n",
              "3        Guerra  ...    True\n",
              "4  responsáveis  ...    True\n",
              "\n",
              "[5 rows x 4 columns]"
            ]
          },
          "metadata": {
            "tags": []
          },
          "execution_count": 9
        }
      ]
    },
    {
      "cell_type": "code",
      "metadata": {
        "id": "shef057ki2-6",
        "colab_type": "code",
        "outputId": "0990d3e0-1796-4aa3-e168-fc2de7ded85a",
        "colab": {
          "base_uri": "https://localhost:8080/",
          "height": 85
        }
      },
      "source": [
        "print('Documento/uso de memória:')\n",
        "%memit documentAtTimeRetrieval(queries[0], indice_invertido, k)\n",
        "\n",
        "print('Termo / uso de memória:')\n",
        "%memit termAtTimeRetrieval(queries[0], indice_invertido, k)"
      ],
      "execution_count": 10,
      "outputs": [
        {
          "output_type": "stream",
          "text": [
            "Documento/uso de memória:\n",
            "peak memory: 204.74 MiB, increment: 0.12 MiB\n",
            "Termo / uso de memória:\n",
            "peak memory: 204.74 MiB, increment: 0.00 MiB\n"
          ],
          "name": "stdout"
        }
      ]
    },
    {
      "cell_type": "code",
      "metadata": {
        "id": "glxFpeOXwGWY",
        "colab_type": "code",
        "colab": {}
      },
      "source": [
        ""
      ],
      "execution_count": 0,
      "outputs": []
    },
    {
      "cell_type": "markdown",
      "metadata": {
        "id": "CKXftpcq6N5c",
        "colab_type": "text"
      },
      "source": [
        "**3.Dê evidências de que sua implementação está correta.**\n"
      ]
    },
    {
      "cell_type": "code",
      "metadata": {
        "id": "3scl17yk6xh0",
        "colab_type": "code",
        "colab": {}
      },
      "source": [
        ""
      ],
      "execution_count": 0,
      "outputs": []
    },
    {
      "cell_type": "markdown",
      "metadata": {
        "id": "5tLvTHim6x1E",
        "colab_type": "text"
      },
      "source": [
        "**Compare os tempos médios de execução e uso de memória de cada algoritmo.**\n"
      ]
    },
    {
      "cell_type": "code",
      "metadata": {
        "id": "LkahG22T68ZH",
        "colab_type": "code",
        "outputId": "e08aaada-7b0e-418d-8c66-c4e82563a3db",
        "colab": {
          "base_uri": "https://localhost:8080/",
          "height": 204
        }
      },
      "source": [
        "tempo_df = pd.DataFrame()\n",
        "tempo_df['tempo_médio_document_at_a_time'] = timeResultDocuments\n",
        "tempo_df['tempo_médio_term_at_a_time'] = timeResultTerms\n",
        "tempo_df"
      ],
      "execution_count": 11,
      "outputs": [
        {
          "output_type": "execute_result",
          "data": {
            "text/html": [
              "<div>\n",
              "<style scoped>\n",
              "    .dataframe tbody tr th:only-of-type {\n",
              "        vertical-align: middle;\n",
              "    }\n",
              "\n",
              "    .dataframe tbody tr th {\n",
              "        vertical-align: top;\n",
              "    }\n",
              "\n",
              "    .dataframe thead th {\n",
              "        text-align: right;\n",
              "    }\n",
              "</style>\n",
              "<table border=\"1\" class=\"dataframe\">\n",
              "  <thead>\n",
              "    <tr style=\"text-align: right;\">\n",
              "      <th></th>\n",
              "      <th>tempo_médio_document_at_a_time</th>\n",
              "      <th>tempo_médio_term_at_a_time</th>\n",
              "    </tr>\n",
              "  </thead>\n",
              "  <tbody>\n",
              "    <tr>\n",
              "      <th>0</th>\n",
              "      <td>0.122530</td>\n",
              "      <td>0.000040</td>\n",
              "    </tr>\n",
              "    <tr>\n",
              "      <th>1</th>\n",
              "      <td>0.440433</td>\n",
              "      <td>0.000107</td>\n",
              "    </tr>\n",
              "    <tr>\n",
              "      <th>2</th>\n",
              "      <td>0.113475</td>\n",
              "      <td>0.000040</td>\n",
              "    </tr>\n",
              "    <tr>\n",
              "      <th>3</th>\n",
              "      <td>0.112314</td>\n",
              "      <td>0.000038</td>\n",
              "    </tr>\n",
              "    <tr>\n",
              "      <th>4</th>\n",
              "      <td>0.157252</td>\n",
              "      <td>0.000047</td>\n",
              "    </tr>\n",
              "  </tbody>\n",
              "</table>\n",
              "</div>"
            ],
            "text/plain": [
              "   tempo_médio_document_at_a_time  tempo_médio_term_at_a_time\n",
              "0                        0.122530                    0.000040\n",
              "1                        0.440433                    0.000107\n",
              "2                        0.113475                    0.000040\n",
              "3                        0.112314                    0.000038\n",
              "4                        0.157252                    0.000047"
            ]
          },
          "metadata": {
            "tags": []
          },
          "execution_count": 11
        }
      ]
    },
    {
      "cell_type": "markdown",
      "metadata": {
        "id": "TVcK-Ff3fat0",
        "colab_type": "text"
      },
      "source": [
        "**3.Implemente uma das versões de consulta conjuntiva (AND) (Fig. 5.20 ou 5.21).**\n",
        "        1.Defina 5 consultas conjuntivas (AND).\n",
        "        2.Execute as 5 consultas em cada algoritmo retornando os top-10    documentos (parâmetro k do algoritmo).\n",
        "        3.Dê evidências de que sua implementação está correta*"
      ]
    },
    {
      "cell_type": "code",
      "metadata": {
        "id": "9_4doUwXvN4t",
        "colab_type": "code",
        "colab": {}
      },
      "source": [
        "def conj_query(query, indice_invertido, k):\n",
        "  \n",
        "  query_indexes = []\n",
        "  rank = []\n",
        "  \n",
        "  for word in query.split(\" \"):\n",
        "    if word in indice_invertido.keys():\n",
        "        query_indexes.append(indice_invertido[word])\n",
        "  \n",
        "  all_query = [item for sublist in query_indexes for item in sublist]\n",
        "  all_query.sort()\n",
        "  \n",
        "  for i in range(len(all_query)):\n",
        "    doc_score = 0\n",
        "    d = all_query.pop()\n",
        "    for index in all_query:\n",
        "      if index[0] == d[0]:\n",
        "        doc_score += index[1] + d[1]\n",
        "    if doc_score != 0:\n",
        "      heapq.heappush(rank, (doc_score, d[0]))\n",
        "        \n",
        "  return heapq.nlargest(k, rank)\n",
        "\n"
      ],
      "execution_count": 0,
      "outputs": []
    },
    {
      "cell_type": "code",
      "metadata": {
        "id": "0bgu5HFf5CRB",
        "colab_type": "code",
        "colab": {}
      },
      "source": [
        "queries_conj = [\"porta legal\", \"porta questão\", \"proibição política\", \"Carta Aeronáutica\", \"princípio golpistas\"]\n",
        "k  = 10\n",
        "results_conj = []\n",
        "\n",
        "for query in queries_conj:\n",
        "  score_conj = conj_query(query, indice_invertido, k)\n",
        "  results_conj.append(score_conj)"
      ],
      "execution_count": 0,
      "outputs": []
    },
    {
      "cell_type": "code",
      "metadata": {
        "id": "gi8mm9hSfP0I",
        "colab_type": "code",
        "outputId": "6e5349e3-b289-4b88-d478-6e0a6629c502",
        "colab": {
          "base_uri": "https://localhost:8080/",
          "height": 204
        }
      },
      "source": [
        "result_df = pd.DataFrame()\n",
        "result_df['Consulta'] = queries_conj\n",
        "result_df['Resultado'] = results_conj\n",
        "result_df.index+=1\n",
        "result_df"
      ],
      "execution_count": 14,
      "outputs": [
        {
          "output_type": "execute_result",
          "data": {
            "text/html": [
              "<div>\n",
              "<style scoped>\n",
              "    .dataframe tbody tr th:only-of-type {\n",
              "        vertical-align: middle;\n",
              "    }\n",
              "\n",
              "    .dataframe tbody tr th {\n",
              "        vertical-align: top;\n",
              "    }\n",
              "\n",
              "    .dataframe thead th {\n",
              "        text-align: right;\n",
              "    }\n",
              "</style>\n",
              "<table border=\"1\" class=\"dataframe\">\n",
              "  <thead>\n",
              "    <tr style=\"text-align: right;\">\n",
              "      <th></th>\n",
              "      <th>Consulta</th>\n",
              "      <th>Resultado</th>\n",
              "    </tr>\n",
              "  </thead>\n",
              "  <tbody>\n",
              "    <tr>\n",
              "      <th>1</th>\n",
              "      <td>porta legal</td>\n",
              "      <td>[(4, 1), (2, 125), (2, 124)]</td>\n",
              "    </tr>\n",
              "    <tr>\n",
              "      <th>2</th>\n",
              "      <td>porta questão</td>\n",
              "      <td>[(9, 25), (8, 166), (7, 230), (4, 1), (3, 208)...</td>\n",
              "    </tr>\n",
              "    <tr>\n",
              "      <th>3</th>\n",
              "      <td>proibição política</td>\n",
              "      <td>[(3, 90), (2, 161), (2, 1)]</td>\n",
              "    </tr>\n",
              "    <tr>\n",
              "      <th>4</th>\n",
              "      <td>Carta Aeronáutica</td>\n",
              "      <td>[(2, 1)]</td>\n",
              "    </tr>\n",
              "    <tr>\n",
              "      <th>5</th>\n",
              "      <td>princípio golpistas</td>\n",
              "      <td>[(4, 1)]</td>\n",
              "    </tr>\n",
              "  </tbody>\n",
              "</table>\n",
              "</div>"
            ],
            "text/plain": [
              "              Consulta                                          Resultado\n",
              "1          porta legal                       [(4, 1), (2, 125), (2, 124)]\n",
              "2        porta questão  [(9, 25), (8, 166), (7, 230), (4, 1), (3, 208)...\n",
              "3   proibição política                        [(3, 90), (2, 161), (2, 1)]\n",
              "4    Carta Aeronáutica                                           [(2, 1)]\n",
              "5  princípio golpistas                                           [(4, 1)]"
            ]
          },
          "metadata": {
            "tags": []
          },
          "execution_count": 14
        }
      ]
    }
  ]
}